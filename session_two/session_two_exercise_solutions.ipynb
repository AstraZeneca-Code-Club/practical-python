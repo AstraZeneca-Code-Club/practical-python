{
 "cells": [
  {
   "cell_type": "markdown",
   "metadata": {},
   "source": [
    "## Dictionary Exercises"
   ]
  },
  {
   "cell_type": "markdown",
   "metadata": {},
   "source": [
    "### Problem 1"
   ]
  },
  {
   "cell_type": "code",
   "execution_count": 18,
   "metadata": {},
   "outputs": [],
   "source": [
    "my_info = {\n",
    "    'name': 'Tim',\n",
    "    'age': 21,\n",
    "    'male': True,\n",
    "    'languages': ['R', 'Python', 'SQL']\n",
    "}"
   ]
  },
  {
   "cell_type": "markdown",
   "metadata": {},
   "source": [
    "### Problem 2"
   ]
  },
  {
   "cell_type": "code",
   "execution_count": 19,
   "metadata": {},
   "outputs": [
    {
     "name": "stdout",
     "output_type": "stream",
     "text": [
      "Hi, I'm Tim and I like to program in R, Python and SQL\n"
     ]
    }
   ],
   "source": [
    "print(\n",
    "    \"Hi, I'm\", \n",
    "    my_info['name'],\n",
    "    \"and I like to program in\",\n",
    "    ', '.join(my_info['languages'][:-1]),\n",
    "    'and',\n",
    "    my_info['languages'][-1]\n",
    ")"
   ]
  },
  {
   "cell_type": "markdown",
   "metadata": {},
   "source": [
    "### Problem 3\n",
    "\n",
    "This code example shows how to overwrite existing values and add new key-value pairs. Here is a related example using the dictionary above."
   ]
  },
  {
   "cell_type": "code",
   "execution_count": 20,
   "metadata": {},
   "outputs": [],
   "source": [
    "my_info['languages'].append('Bash')"
   ]
  },
  {
   "cell_type": "markdown",
   "metadata": {},
   "source": [
    "### Bonus Problem 1\n",
    "\n",
    "The `.get()` method allows you to access a key which may or may not exist without needing to worry about throwing an error. By default, `.get()` will return `None` (NB: this is an object of type `None`, not the string `'None'`), though a second argument can be used to set a default value."
   ]
  },
  {
   "cell_type": "code",
   "execution_count": 21,
   "metadata": {},
   "outputs": [
    {
     "name": "stdout",
     "output_type": "stream",
     "text": [
      "21\n",
      "None\n",
      "None of your business\n"
     ]
    }
   ],
   "source": [
    "print(my_info.get('age'))\n",
    "print(my_info.get('address'))\n",
    "print(my_info.get('address', 'None of your business'))"
   ]
  },
  {
   "cell_type": "markdown",
   "metadata": {},
   "source": [
    "### Bonus Problem 2\n",
    "\n",
    "The code in the second bonus problem checks whether a dictionary contains a specific key. This offers a more verbose replacement of `.get()`."
   ]
  },
  {
   "cell_type": "code",
   "execution_count": 22,
   "metadata": {},
   "outputs": [],
   "source": [
    "age = my_info['age'] if 'age' in my_info else -1"
   ]
  },
  {
   "cell_type": "markdown",
   "metadata": {},
   "source": [
    "## More Dictionary Exercises"
   ]
  },
  {
   "cell_type": "markdown",
   "metadata": {},
   "source": [
    "### Problem"
   ]
  },
  {
   "cell_type": "code",
   "execution_count": 23,
   "metadata": {},
   "outputs": [
    {
     "name": "stdout",
     "output_type": "stream",
     "text": [
      "There are 3 occurences of 'spam'\n",
      "There is 1 occurence of 'eggs'\n"
     ]
    }
   ],
   "source": [
    "def count_occurrences(words):\n",
    "    counts = {}\n",
    "    for w in words:\n",
    "        # alternatively: counts[w] = counts.get(w, 0) + 1\n",
    "        if w in counts:\n",
    "            counts[w] += 1\n",
    "        else:\n",
    "            counts[w] = 1\n",
    "    for w, c in counts.items():\n",
    "        print(\n",
    "            \"There\",\n",
    "            \"is\" if c == 1 else \"are\",\n",
    "            c,\n",
    "            \"occurence\" + (\"\" if c == 1 else \"s\"),\n",
    "            \"of\",\n",
    "            \"'\" + w + \"'\"\n",
    "        )\n",
    "\n",
    "count_occurrences(['spam', 'spam', 'eggs', 'spam'])"
   ]
  },
  {
   "cell_type": "markdown",
   "metadata": {},
   "source": [
    "### Bonus Problem"
   ]
  },
  {
   "cell_type": "markdown",
   "metadata": {},
   "source": [
    "The bonus code example reorders a dictionary by the values of each pair (this may be useful for creating the leaderboard in the main session challenge)."
   ]
  }
 ],
 "metadata": {
  "kernelspec": {
   "display_name": "Python 3",
   "language": "python",
   "name": "python3"
  },
  "language_info": {
   "codemirror_mode": {
    "name": "ipython",
    "version": 3
   },
   "file_extension": ".py",
   "mimetype": "text/x-python",
   "name": "python",
   "nbconvert_exporter": "python",
   "pygments_lexer": "ipython3",
   "version": "3.7.3"
  }
 },
 "nbformat": 4,
 "nbformat_minor": 2
}
